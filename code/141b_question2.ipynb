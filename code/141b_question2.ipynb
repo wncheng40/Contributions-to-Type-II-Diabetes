{
 "cells": [
  {
   "cell_type": "markdown",
   "id": "6caef6c4",
   "metadata": {},
   "source": [
    "# Part 2 - a national and more detailed analysis of indicators of diabetes"
   ]
  },
  {
   "cell_type": "code",
   "execution_count": 14,
   "id": "5336ef91",
   "metadata": {
    "tags": [
     "hide_code"
    ]
   },
   "outputs": [],
   "source": [
    "import pandas as pd\n",
    "import numpy as np\n",
    "from sklearn.preprocessing import LabelEncoder\n",
    "from sklearn.feature_selection import SelectKBest\n",
    "from sklearn.feature_selection import chi2\n",
    "from sklearn.utils import resample\n",
    "from sklearn.model_selection import train_test_split\n",
    "from sklearn import preprocessing\n",
    "from sklearn.tree import DecisionTreeClassifier\n",
    "from sklearn.tree import plot_tree\n",
    "from sklearn.ensemble import RandomForestClassifier\n",
    "from sklearn.model_selection import GridSearchCV\n",
    "from sklearn import metrics\n",
    "from sklearn.metrics import accuracy_score, precision_score, recall_score, f1_score\n",
    "from sklearn.metrics import classification_report, precision_recall_curve, roc_curve, roc_auc_score\n",
    "import scikitplot as skplt\n",
    "import matplotlib.pyplot as plt\n",
    "import seaborn as sns\n",
    "%matplotlib inline"
   ]
  },
  {
   "cell_type": "code",
   "execution_count": 15,
   "id": "2b145e30",
   "metadata": {},
   "outputs": [
    {
     "data": {
      "text/html": [
       "<div>\n",
       "<style scoped>\n",
       "    .dataframe tbody tr th:only-of-type {\n",
       "        vertical-align: middle;\n",
       "    }\n",
       "\n",
       "    .dataframe tbody tr th {\n",
       "        vertical-align: top;\n",
       "    }\n",
       "\n",
       "    .dataframe thead th {\n",
       "        text-align: right;\n",
       "    }\n",
       "</style>\n",
       "<table border=\"1\" class=\"dataframe\">\n",
       "  <thead>\n",
       "    <tr style=\"text-align: right;\">\n",
       "      <th></th>\n",
       "      <th>Diabetes_012</th>\n",
       "      <th>HighBP</th>\n",
       "      <th>HighChol</th>\n",
       "      <th>CholCheck</th>\n",
       "      <th>BMI</th>\n",
       "      <th>Smoker</th>\n",
       "      <th>Stroke</th>\n",
       "      <th>HeartDiseaseorAttack</th>\n",
       "      <th>PhysActivity</th>\n",
       "      <th>Fruits</th>\n",
       "      <th>...</th>\n",
       "      <th>AnyHealthcare</th>\n",
       "      <th>NoDocbcCost</th>\n",
       "      <th>GenHlth</th>\n",
       "      <th>MentHlth</th>\n",
       "      <th>PhysHlth</th>\n",
       "      <th>DiffWalk</th>\n",
       "      <th>Sex</th>\n",
       "      <th>Age</th>\n",
       "      <th>Education</th>\n",
       "      <th>Income</th>\n",
       "    </tr>\n",
       "  </thead>\n",
       "  <tbody>\n",
       "    <tr>\n",
       "      <th>0</th>\n",
       "      <td>0.0</td>\n",
       "      <td>1.0</td>\n",
       "      <td>1.0</td>\n",
       "      <td>1.0</td>\n",
       "      <td>40.0</td>\n",
       "      <td>1.0</td>\n",
       "      <td>0.0</td>\n",
       "      <td>0.0</td>\n",
       "      <td>0.0</td>\n",
       "      <td>0.0</td>\n",
       "      <td>...</td>\n",
       "      <td>1.0</td>\n",
       "      <td>0.0</td>\n",
       "      <td>5.0</td>\n",
       "      <td>18.0</td>\n",
       "      <td>15.0</td>\n",
       "      <td>1.0</td>\n",
       "      <td>0.0</td>\n",
       "      <td>9.0</td>\n",
       "      <td>4.0</td>\n",
       "      <td>3.0</td>\n",
       "    </tr>\n",
       "    <tr>\n",
       "      <th>1</th>\n",
       "      <td>0.0</td>\n",
       "      <td>0.0</td>\n",
       "      <td>0.0</td>\n",
       "      <td>0.0</td>\n",
       "      <td>25.0</td>\n",
       "      <td>1.0</td>\n",
       "      <td>0.0</td>\n",
       "      <td>0.0</td>\n",
       "      <td>1.0</td>\n",
       "      <td>0.0</td>\n",
       "      <td>...</td>\n",
       "      <td>0.0</td>\n",
       "      <td>1.0</td>\n",
       "      <td>3.0</td>\n",
       "      <td>0.0</td>\n",
       "      <td>0.0</td>\n",
       "      <td>0.0</td>\n",
       "      <td>0.0</td>\n",
       "      <td>7.0</td>\n",
       "      <td>6.0</td>\n",
       "      <td>1.0</td>\n",
       "    </tr>\n",
       "    <tr>\n",
       "      <th>2</th>\n",
       "      <td>0.0</td>\n",
       "      <td>1.0</td>\n",
       "      <td>1.0</td>\n",
       "      <td>1.0</td>\n",
       "      <td>28.0</td>\n",
       "      <td>0.0</td>\n",
       "      <td>0.0</td>\n",
       "      <td>0.0</td>\n",
       "      <td>0.0</td>\n",
       "      <td>1.0</td>\n",
       "      <td>...</td>\n",
       "      <td>1.0</td>\n",
       "      <td>1.0</td>\n",
       "      <td>5.0</td>\n",
       "      <td>30.0</td>\n",
       "      <td>30.0</td>\n",
       "      <td>1.0</td>\n",
       "      <td>0.0</td>\n",
       "      <td>9.0</td>\n",
       "      <td>4.0</td>\n",
       "      <td>8.0</td>\n",
       "    </tr>\n",
       "    <tr>\n",
       "      <th>3</th>\n",
       "      <td>0.0</td>\n",
       "      <td>1.0</td>\n",
       "      <td>0.0</td>\n",
       "      <td>1.0</td>\n",
       "      <td>27.0</td>\n",
       "      <td>0.0</td>\n",
       "      <td>0.0</td>\n",
       "      <td>0.0</td>\n",
       "      <td>1.0</td>\n",
       "      <td>1.0</td>\n",
       "      <td>...</td>\n",
       "      <td>1.0</td>\n",
       "      <td>0.0</td>\n",
       "      <td>2.0</td>\n",
       "      <td>0.0</td>\n",
       "      <td>0.0</td>\n",
       "      <td>0.0</td>\n",
       "      <td>0.0</td>\n",
       "      <td>11.0</td>\n",
       "      <td>3.0</td>\n",
       "      <td>6.0</td>\n",
       "    </tr>\n",
       "    <tr>\n",
       "      <th>4</th>\n",
       "      <td>0.0</td>\n",
       "      <td>1.0</td>\n",
       "      <td>1.0</td>\n",
       "      <td>1.0</td>\n",
       "      <td>24.0</td>\n",
       "      <td>0.0</td>\n",
       "      <td>0.0</td>\n",
       "      <td>0.0</td>\n",
       "      <td>1.0</td>\n",
       "      <td>1.0</td>\n",
       "      <td>...</td>\n",
       "      <td>1.0</td>\n",
       "      <td>0.0</td>\n",
       "      <td>2.0</td>\n",
       "      <td>3.0</td>\n",
       "      <td>0.0</td>\n",
       "      <td>0.0</td>\n",
       "      <td>0.0</td>\n",
       "      <td>11.0</td>\n",
       "      <td>5.0</td>\n",
       "      <td>4.0</td>\n",
       "    </tr>\n",
       "    <tr>\n",
       "      <th>5</th>\n",
       "      <td>0.0</td>\n",
       "      <td>1.0</td>\n",
       "      <td>1.0</td>\n",
       "      <td>1.0</td>\n",
       "      <td>25.0</td>\n",
       "      <td>1.0</td>\n",
       "      <td>0.0</td>\n",
       "      <td>0.0</td>\n",
       "      <td>1.0</td>\n",
       "      <td>1.0</td>\n",
       "      <td>...</td>\n",
       "      <td>1.0</td>\n",
       "      <td>0.0</td>\n",
       "      <td>2.0</td>\n",
       "      <td>0.0</td>\n",
       "      <td>2.0</td>\n",
       "      <td>0.0</td>\n",
       "      <td>1.0</td>\n",
       "      <td>10.0</td>\n",
       "      <td>6.0</td>\n",
       "      <td>8.0</td>\n",
       "    </tr>\n",
       "    <tr>\n",
       "      <th>6</th>\n",
       "      <td>0.0</td>\n",
       "      <td>1.0</td>\n",
       "      <td>0.0</td>\n",
       "      <td>1.0</td>\n",
       "      <td>30.0</td>\n",
       "      <td>1.0</td>\n",
       "      <td>0.0</td>\n",
       "      <td>0.0</td>\n",
       "      <td>0.0</td>\n",
       "      <td>0.0</td>\n",
       "      <td>...</td>\n",
       "      <td>1.0</td>\n",
       "      <td>0.0</td>\n",
       "      <td>3.0</td>\n",
       "      <td>0.0</td>\n",
       "      <td>14.0</td>\n",
       "      <td>0.0</td>\n",
       "      <td>0.0</td>\n",
       "      <td>9.0</td>\n",
       "      <td>6.0</td>\n",
       "      <td>7.0</td>\n",
       "    </tr>\n",
       "    <tr>\n",
       "      <th>7</th>\n",
       "      <td>0.0</td>\n",
       "      <td>1.0</td>\n",
       "      <td>1.0</td>\n",
       "      <td>1.0</td>\n",
       "      <td>25.0</td>\n",
       "      <td>1.0</td>\n",
       "      <td>0.0</td>\n",
       "      <td>0.0</td>\n",
       "      <td>1.0</td>\n",
       "      <td>0.0</td>\n",
       "      <td>...</td>\n",
       "      <td>1.0</td>\n",
       "      <td>0.0</td>\n",
       "      <td>3.0</td>\n",
       "      <td>0.0</td>\n",
       "      <td>0.0</td>\n",
       "      <td>1.0</td>\n",
       "      <td>0.0</td>\n",
       "      <td>11.0</td>\n",
       "      <td>4.0</td>\n",
       "      <td>4.0</td>\n",
       "    </tr>\n",
       "    <tr>\n",
       "      <th>8</th>\n",
       "      <td>2.0</td>\n",
       "      <td>1.0</td>\n",
       "      <td>1.0</td>\n",
       "      <td>1.0</td>\n",
       "      <td>30.0</td>\n",
       "      <td>1.0</td>\n",
       "      <td>0.0</td>\n",
       "      <td>1.0</td>\n",
       "      <td>0.0</td>\n",
       "      <td>1.0</td>\n",
       "      <td>...</td>\n",
       "      <td>1.0</td>\n",
       "      <td>0.0</td>\n",
       "      <td>5.0</td>\n",
       "      <td>30.0</td>\n",
       "      <td>30.0</td>\n",
       "      <td>1.0</td>\n",
       "      <td>0.0</td>\n",
       "      <td>9.0</td>\n",
       "      <td>5.0</td>\n",
       "      <td>1.0</td>\n",
       "    </tr>\n",
       "    <tr>\n",
       "      <th>9</th>\n",
       "      <td>0.0</td>\n",
       "      <td>0.0</td>\n",
       "      <td>0.0</td>\n",
       "      <td>1.0</td>\n",
       "      <td>24.0</td>\n",
       "      <td>0.0</td>\n",
       "      <td>0.0</td>\n",
       "      <td>0.0</td>\n",
       "      <td>0.0</td>\n",
       "      <td>0.0</td>\n",
       "      <td>...</td>\n",
       "      <td>1.0</td>\n",
       "      <td>0.0</td>\n",
       "      <td>2.0</td>\n",
       "      <td>0.0</td>\n",
       "      <td>0.0</td>\n",
       "      <td>0.0</td>\n",
       "      <td>1.0</td>\n",
       "      <td>8.0</td>\n",
       "      <td>4.0</td>\n",
       "      <td>3.0</td>\n",
       "    </tr>\n",
       "  </tbody>\n",
       "</table>\n",
       "<p>10 rows × 22 columns</p>\n",
       "</div>"
      ],
      "text/plain": [
       "   Diabetes_012  HighBP  HighChol  CholCheck   BMI  Smoker  Stroke  \\\n",
       "0           0.0     1.0       1.0        1.0  40.0     1.0     0.0   \n",
       "1           0.0     0.0       0.0        0.0  25.0     1.0     0.0   \n",
       "2           0.0     1.0       1.0        1.0  28.0     0.0     0.0   \n",
       "3           0.0     1.0       0.0        1.0  27.0     0.0     0.0   \n",
       "4           0.0     1.0       1.0        1.0  24.0     0.0     0.0   \n",
       "5           0.0     1.0       1.0        1.0  25.0     1.0     0.0   \n",
       "6           0.0     1.0       0.0        1.0  30.0     1.0     0.0   \n",
       "7           0.0     1.0       1.0        1.0  25.0     1.0     0.0   \n",
       "8           2.0     1.0       1.0        1.0  30.0     1.0     0.0   \n",
       "9           0.0     0.0       0.0        1.0  24.0     0.0     0.0   \n",
       "\n",
       "   HeartDiseaseorAttack  PhysActivity  Fruits  ...  AnyHealthcare  \\\n",
       "0                   0.0           0.0     0.0  ...            1.0   \n",
       "1                   0.0           1.0     0.0  ...            0.0   \n",
       "2                   0.0           0.0     1.0  ...            1.0   \n",
       "3                   0.0           1.0     1.0  ...            1.0   \n",
       "4                   0.0           1.0     1.0  ...            1.0   \n",
       "5                   0.0           1.0     1.0  ...            1.0   \n",
       "6                   0.0           0.0     0.0  ...            1.0   \n",
       "7                   0.0           1.0     0.0  ...            1.0   \n",
       "8                   1.0           0.0     1.0  ...            1.0   \n",
       "9                   0.0           0.0     0.0  ...            1.0   \n",
       "\n",
       "   NoDocbcCost  GenHlth  MentHlth  PhysHlth  DiffWalk  Sex   Age  Education  \\\n",
       "0          0.0      5.0      18.0      15.0       1.0  0.0   9.0        4.0   \n",
       "1          1.0      3.0       0.0       0.0       0.0  0.0   7.0        6.0   \n",
       "2          1.0      5.0      30.0      30.0       1.0  0.0   9.0        4.0   \n",
       "3          0.0      2.0       0.0       0.0       0.0  0.0  11.0        3.0   \n",
       "4          0.0      2.0       3.0       0.0       0.0  0.0  11.0        5.0   \n",
       "5          0.0      2.0       0.0       2.0       0.0  1.0  10.0        6.0   \n",
       "6          0.0      3.0       0.0      14.0       0.0  0.0   9.0        6.0   \n",
       "7          0.0      3.0       0.0       0.0       1.0  0.0  11.0        4.0   \n",
       "8          0.0      5.0      30.0      30.0       1.0  0.0   9.0        5.0   \n",
       "9          0.0      2.0       0.0       0.0       0.0  1.0   8.0        4.0   \n",
       "\n",
       "   Income  \n",
       "0     3.0  \n",
       "1     1.0  \n",
       "2     8.0  \n",
       "3     6.0  \n",
       "4     4.0  \n",
       "5     8.0  \n",
       "6     7.0  \n",
       "7     4.0  \n",
       "8     1.0  \n",
       "9     3.0  \n",
       "\n",
       "[10 rows x 22 columns]"
      ]
     },
     "execution_count": 15,
     "metadata": {},
     "output_type": "execute_result"
    }
   ],
   "source": [
    "dia= pd.read_csv(\"diabetes_012_health_indicators_BRFSS2015.csv\")\n",
    "dia.head(10)"
   ]
  },
  {
   "cell_type": "markdown",
   "id": "26d32cc5",
   "metadata": {},
   "source": [
    "## Data Cleaning"
   ]
  },
  {
   "cell_type": "code",
   "execution_count": 71,
   "id": "07783d5b",
   "metadata": {
    "scrolled": true
   },
   "outputs": [
    {
     "name": "stdout",
     "output_type": "stream",
     "text": [
      "<class 'pandas.core.frame.DataFrame'>\n",
      "RangeIndex: 253680 entries, 0 to 253679\n",
      "Data columns (total 22 columns):\n",
      " #   Column                Non-Null Count   Dtype  \n",
      "---  ------                --------------   -----  \n",
      " 0   Diabetes_012          253680 non-null  float64\n",
      " 1   HighBP                253680 non-null  float64\n",
      " 2   HighChol              253680 non-null  float64\n",
      " 3   CholCheck             253680 non-null  float64\n",
      " 4   BMI                   253680 non-null  float64\n",
      " 5   Smoker                253680 non-null  float64\n",
      " 6   Stroke                253680 non-null  float64\n",
      " 7   HeartDiseaseorAttack  253680 non-null  float64\n",
      " 8   PhysActivity          253680 non-null  float64\n",
      " 9   Fruits                253680 non-null  float64\n",
      " 10  Veggies               253680 non-null  float64\n",
      " 11  HvyAlcoholConsump     253680 non-null  float64\n",
      " 12  AnyHealthcare         253680 non-null  float64\n",
      " 13  NoDocbcCost           253680 non-null  float64\n",
      " 14  GenHlth               253680 non-null  float64\n",
      " 15  MentHlth              253680 non-null  float64\n",
      " 16  PhysHlth              253680 non-null  float64\n",
      " 17  DiffWalk              253680 non-null  float64\n",
      " 18  Sex                   253680 non-null  float64\n",
      " 19  Age                   253680 non-null  float64\n",
      " 20  Education             253680 non-null  float64\n",
      " 21  Income                253680 non-null  float64\n",
      "dtypes: float64(22)\n",
      "memory usage: 42.6 MB\n"
     ]
    }
   ],
   "source": [
    "# Check for empty cells and if data types are correct for the respective columns\n",
    "dia.info()"
   ]
  },
  {
   "cell_type": "code",
   "execution_count": 16,
   "id": "9bbe172e",
   "metadata": {},
   "outputs": [],
   "source": [
    "# set reponse as binomal \n",
    "# Since 'Diabetes_012' ==1 is pre-diabetes, we need to remove them\n",
    "index1 = dia[ (dia['Diabetes_012'] ==1)].index\n",
    "dia.drop(index1 , inplace=True)\n",
    "dia['Diabetes_012'] = dia['Diabetes_012'].replace(2,1)\n",
    "df = dia"
   ]
  },
  {
   "cell_type": "markdown",
   "id": "b65b95b5",
   "metadata": {},
   "source": [
    "Blood sugar levels that are higher than normal but not yet high enough to be diagnosed as type 2 diabetes are considered to have pre-diabetes. Therefore, We remove the response 'pre-diabetes' which is 1. We only want to focus on diabetes and No-diabetes and we set our response as binomal. ( diabetes = 1 and No-diabetes = 0)"
   ]
  },
  {
   "cell_type": "markdown",
   "id": "8c3c1f67",
   "metadata": {},
   "source": [
    "The Final dataset:"
   ]
  },
  {
   "cell_type": "code",
   "execution_count": 17,
   "id": "3c5b14cc",
   "metadata": {
    "tags": [
     "hide_code"
    ]
   },
   "outputs": [
    {
     "data": {
      "text/html": [
       "<div>\n",
       "<style scoped>\n",
       "    .dataframe tbody tr th:only-of-type {\n",
       "        vertical-align: middle;\n",
       "    }\n",
       "\n",
       "    .dataframe tbody tr th {\n",
       "        vertical-align: top;\n",
       "    }\n",
       "\n",
       "    .dataframe thead th {\n",
       "        text-align: right;\n",
       "    }\n",
       "</style>\n",
       "<table border=\"1\" class=\"dataframe\">\n",
       "  <thead>\n",
       "    <tr style=\"text-align: right;\">\n",
       "      <th></th>\n",
       "      <th>Diabetes_012</th>\n",
       "      <th>HighBP</th>\n",
       "      <th>HighChol</th>\n",
       "      <th>CholCheck</th>\n",
       "      <th>BMI</th>\n",
       "      <th>Smoker</th>\n",
       "      <th>Stroke</th>\n",
       "      <th>HeartDiseaseorAttack</th>\n",
       "      <th>PhysActivity</th>\n",
       "      <th>Fruits</th>\n",
       "      <th>...</th>\n",
       "      <th>AnyHealthcare</th>\n",
       "      <th>NoDocbcCost</th>\n",
       "      <th>GenHlth</th>\n",
       "      <th>MentHlth</th>\n",
       "      <th>PhysHlth</th>\n",
       "      <th>DiffWalk</th>\n",
       "      <th>Sex</th>\n",
       "      <th>Age</th>\n",
       "      <th>Education</th>\n",
       "      <th>Income</th>\n",
       "    </tr>\n",
       "  </thead>\n",
       "  <tbody>\n",
       "    <tr>\n",
       "      <th>0</th>\n",
       "      <td>0</td>\n",
       "      <td>1</td>\n",
       "      <td>1</td>\n",
       "      <td>1</td>\n",
       "      <td>40</td>\n",
       "      <td>1</td>\n",
       "      <td>0</td>\n",
       "      <td>0</td>\n",
       "      <td>0</td>\n",
       "      <td>0</td>\n",
       "      <td>...</td>\n",
       "      <td>1</td>\n",
       "      <td>0</td>\n",
       "      <td>5</td>\n",
       "      <td>18</td>\n",
       "      <td>15</td>\n",
       "      <td>1</td>\n",
       "      <td>0</td>\n",
       "      <td>9</td>\n",
       "      <td>4</td>\n",
       "      <td>3</td>\n",
       "    </tr>\n",
       "    <tr>\n",
       "      <th>1</th>\n",
       "      <td>0</td>\n",
       "      <td>0</td>\n",
       "      <td>0</td>\n",
       "      <td>0</td>\n",
       "      <td>25</td>\n",
       "      <td>1</td>\n",
       "      <td>0</td>\n",
       "      <td>0</td>\n",
       "      <td>1</td>\n",
       "      <td>0</td>\n",
       "      <td>...</td>\n",
       "      <td>0</td>\n",
       "      <td>1</td>\n",
       "      <td>3</td>\n",
       "      <td>0</td>\n",
       "      <td>0</td>\n",
       "      <td>0</td>\n",
       "      <td>0</td>\n",
       "      <td>7</td>\n",
       "      <td>6</td>\n",
       "      <td>1</td>\n",
       "    </tr>\n",
       "    <tr>\n",
       "      <th>2</th>\n",
       "      <td>0</td>\n",
       "      <td>1</td>\n",
       "      <td>1</td>\n",
       "      <td>1</td>\n",
       "      <td>28</td>\n",
       "      <td>0</td>\n",
       "      <td>0</td>\n",
       "      <td>0</td>\n",
       "      <td>0</td>\n",
       "      <td>1</td>\n",
       "      <td>...</td>\n",
       "      <td>1</td>\n",
       "      <td>1</td>\n",
       "      <td>5</td>\n",
       "      <td>30</td>\n",
       "      <td>30</td>\n",
       "      <td>1</td>\n",
       "      <td>0</td>\n",
       "      <td>9</td>\n",
       "      <td>4</td>\n",
       "      <td>8</td>\n",
       "    </tr>\n",
       "    <tr>\n",
       "      <th>3</th>\n",
       "      <td>0</td>\n",
       "      <td>1</td>\n",
       "      <td>0</td>\n",
       "      <td>1</td>\n",
       "      <td>27</td>\n",
       "      <td>0</td>\n",
       "      <td>0</td>\n",
       "      <td>0</td>\n",
       "      <td>1</td>\n",
       "      <td>1</td>\n",
       "      <td>...</td>\n",
       "      <td>1</td>\n",
       "      <td>0</td>\n",
       "      <td>2</td>\n",
       "      <td>0</td>\n",
       "      <td>0</td>\n",
       "      <td>0</td>\n",
       "      <td>0</td>\n",
       "      <td>11</td>\n",
       "      <td>3</td>\n",
       "      <td>6</td>\n",
       "    </tr>\n",
       "    <tr>\n",
       "      <th>4</th>\n",
       "      <td>0</td>\n",
       "      <td>1</td>\n",
       "      <td>1</td>\n",
       "      <td>1</td>\n",
       "      <td>24</td>\n",
       "      <td>0</td>\n",
       "      <td>0</td>\n",
       "      <td>0</td>\n",
       "      <td>1</td>\n",
       "      <td>1</td>\n",
       "      <td>...</td>\n",
       "      <td>1</td>\n",
       "      <td>0</td>\n",
       "      <td>2</td>\n",
       "      <td>3</td>\n",
       "      <td>0</td>\n",
       "      <td>0</td>\n",
       "      <td>0</td>\n",
       "      <td>11</td>\n",
       "      <td>5</td>\n",
       "      <td>4</td>\n",
       "    </tr>\n",
       "  </tbody>\n",
       "</table>\n",
       "<p>5 rows × 22 columns</p>\n",
       "</div>"
      ],
      "text/plain": [
       "   Diabetes_012  HighBP  HighChol  CholCheck  BMI  Smoker  Stroke  \\\n",
       "0             0       1         1          1   40       1       0   \n",
       "1             0       0         0          0   25       1       0   \n",
       "2             0       1         1          1   28       0       0   \n",
       "3             0       1         0          1   27       0       0   \n",
       "4             0       1         1          1   24       0       0   \n",
       "\n",
       "   HeartDiseaseorAttack  PhysActivity  Fruits  ...  AnyHealthcare  \\\n",
       "0                     0             0       0  ...              1   \n",
       "1                     0             1       0  ...              0   \n",
       "2                     0             0       1  ...              1   \n",
       "3                     0             1       1  ...              1   \n",
       "4                     0             1       1  ...              1   \n",
       "\n",
       "   NoDocbcCost  GenHlth  MentHlth  PhysHlth  DiffWalk  Sex  Age  Education  \\\n",
       "0            0        5        18        15         1    0    9          4   \n",
       "1            1        3         0         0         0    0    7          6   \n",
       "2            1        5        30        30         1    0    9          4   \n",
       "3            0        2         0         0         0    0   11          3   \n",
       "4            0        2         3         0         0    0   11          5   \n",
       "\n",
       "   Income  \n",
       "0       3  \n",
       "1       1  \n",
       "2       8  \n",
       "3       6  \n",
       "4       4  \n",
       "\n",
       "[5 rows x 22 columns]"
      ]
     },
     "execution_count": 17,
     "metadata": {},
     "output_type": "execute_result"
    }
   ],
   "source": [
    "#transform data as int \n",
    "df['Diabetes_012'] = df['Diabetes_012'].astype('int')\n",
    "df['HighBP'] = df['HighBP'].astype('int')\n",
    "df['HighChol'] = df['HighChol'].astype('int')\n",
    "df['CholCheck'] = df['CholCheck'].astype('int')\n",
    "df['BMI'] = df['BMI'].astype('int')\n",
    "df['Smoker'] = df['Smoker'].astype('int')\n",
    "df['Stroke'] = df['Stroke'].astype('int')\n",
    "df['HeartDiseaseorAttack'] = df['HeartDiseaseorAttack'].astype('int')\n",
    "df['PhysActivity'] = df['PhysActivity'].astype('int')\n",
    "df['Fruits'] = df['Fruits'].astype('int')\n",
    "df['Veggies'] = df['Veggies'].astype('int')\n",
    "\n",
    "df['HvyAlcoholConsump'] = df['HvyAlcoholConsump'].astype('int')\n",
    "df['AnyHealthcare'] = df['AnyHealthcare'].astype('int')\n",
    "df['NoDocbcCost'] = df['NoDocbcCost'].astype('int')\n",
    "df['GenHlth'] = df['GenHlth'].astype('int')\n",
    "df['MentHlth'] = df['MentHlth'].astype('int')\n",
    "df['PhysHlth'] = df['PhysHlth'].astype('int')\n",
    "df['DiffWalk'] = df['DiffWalk'].astype('int')\n",
    "df['Sex'] = df['Sex'].astype('int')\n",
    "df['Age'] = df['Age'].astype('int')\n",
    "df['Education'] = df['Education'].astype('int')\n",
    "df['Income'] = df['Income'].astype('int')\n",
    "df.head()"
   ]
  },
  {
   "cell_type": "markdown",
   "id": "c90244f3",
   "metadata": {},
   "source": [
    "## Data visualization"
   ]
  },
  {
   "cell_type": "code",
   "execution_count": 18,
   "id": "3f5ad7a3",
   "metadata": {
    "tags": [
     "hide_code"
    ]
   },
   "outputs": [
    {
     "name": "stderr",
     "output_type": "stream",
     "text": [
      "/Users/williecheng/opt/anaconda3/lib/python3.9/site-packages/seaborn/_decorators.py:36: FutureWarning: Pass the following variable as a keyword arg: x. From version 0.12, the only valid positional argument will be `data`, and passing other arguments without an explicit keyword will result in an error or misinterpretation.\n",
      "  warnings.warn(\n"
     ]
    },
    {
     "data": {
      "image/png": "[encoded data removed]",
      "text/plain": [
       "<Figure size 288x216 with 1 Axes>"
      ]
     },
     "metadata": {
      "needs_background": "light"
     },
     "output_type": "display_data"
    }
   ],
   "source": [
    "df1 = df.copy()\n",
    "df1.Diabetes_012[df1['Diabetes_012'] == 0] = 'No Diabetes'\n",
    "df1.Diabetes_012[df1['Diabetes_012'] == 1] = 'Diabetes'\n",
    "plt.figure(figsize = (4,3))\n",
    "sns.countplot(df1[\"Diabetes_012\"])\n",
    "plt.title(\"Diabetes Status\")\n",
    "plt.show()"
   ]
  },
  {
   "cell_type": "code",
   "execution_count": 19,
   "id": "96863e35",
   "metadata": {
    "tags": [
     "hide_code"
    ]
   },
   "outputs": [
    {
     "data": {
      "text/plain": [
       "<AxesSubplot:>"
      ]
     },
     "execution_count": 19,
     "metadata": {},
     "output_type": "execute_result"
    },
    {
     "data": {
      "image/png": "[encoded data removed]",
      "text/plain": [
       "<Figure size 2160x720 with 1 Axes>"
      ]
     },
     "metadata": {
      "needs_background": "light"
     },
     "output_type": "display_data"
    }
   ],
   "source": [
    "# Use a boxplot to detect any outliers\n",
    "dia.boxplot(figsize=(30,10), fontsize=10) "
   ]
  },
  {
   "cell_type": "markdown",
   "id": "27e00886",
   "metadata": {},
   "source": [
    "## 1. Methodology"
   ]
  },
  {
   "cell_type": "code",
   "execution_count": 20,
   "id": "5082bb8f",
   "metadata": {
    "tags": [
     "hide_code"
    ]
   },
   "outputs": [],
   "source": [
    "X = df.iloc[:,1:22]  # independent columns - features\n",
    "y = df.iloc[:,0]    # target column - Diabetes_012"
   ]
  },
  {
   "cell_type": "code",
   "execution_count": 21,
   "id": "e153fbd4",
   "metadata": {
    "tags": [
     "hide_code"
    ]
   },
   "outputs": [],
   "source": [
    "import pandas as pd\n",
    "from mlxtend.feature_selection import SequentialFeatureSelector\n",
    "from sklearn.model_selection import train_test_split\n",
    "# Split these data into training and testing datasets\n",
    "#70% training and 30% testing data\n",
    "X_train, X_test, y_train, y_test = train_test_split(X,y, test_size=0.3, random_state=100)"
   ]
  },
  {
   "cell_type": "code",
   "execution_count": 22,
   "id": "bbcd4dd3",
   "metadata": {
    "tags": [
     "hide_code"
    ]
   },
   "outputs": [],
   "source": [
    "# Perform pre-processing to scale numeric features\n",
    "scale = preprocessing.StandardScaler()\n",
    "X_train = scale.fit_transform(X_train)\n",
    "# Test features are scaled using the scaler computed for the training features\n",
    "X_test = scale.transform(X_test)"
   ]
  },
  {
   "cell_type": "code",
   "execution_count": 23,
   "id": "eeaa647b",
   "metadata": {
    "tags": [
     "hide_code"
    ]
   },
   "outputs": [
    {
     "name": "stderr",
     "output_type": "stream",
     "text": [
      "/Users/williecheng/opt/anaconda3/lib/python3.9/site-packages/sklearn/ensemble/_forest.py:560: UserWarning: Some inputs do not have OOB scores. This probably means too few trees were used to compute any reliable OOB estimates.\n",
      "  warn(\n",
      "/Users/williecheng/opt/anaconda3/lib/python3.9/site-packages/sklearn/ensemble/_forest.py:560: UserWarning: Some inputs do not have OOB scores. This probably means too few trees were used to compute any reliable OOB estimates.\n",
      "  warn(\n"
     ]
    },
    {
     "data": {
      "image/png": "[encoded data removed]",
      "text/plain": [
       "<Figure size 432x288 with 1 Axes>"
      ]
     },
     "metadata": {
      "needs_background": "light"
     },
     "output_type": "display_data"
    }
   ],
   "source": [
    "'''\n",
    "The poressing is trying to check the best amount of the tree that has smaller out-of-bag error\n",
    "The out-of-bag error appeared to stabilize around 500 trees.\n",
    "'''\n",
    "# Initialise the random forest estimator\n",
    "# Set 'warm_start=true' so that more trees are added to the existing model each iteration\n",
    "RF = RandomForestClassifier(oob_score=True, random_state=1, \n",
    "                            warm_start=True, n_jobs=-1) \n",
    "oob_list = list()\n",
    "# Iterate through all of the possibilities for the number of trees\n",
    "for n_trees in [15, 20, 30, 40, 50, 100, 150, 200, 300, 400, 500, 600]:\n",
    "    RF.set_params(n_estimators=n_trees)  # Set number of trees\n",
    "    RF.fit(X_train, y_train)\n",
    "    oob_error = 1 - RF.oob_score_ # Obtain the oob error\n",
    "    oob_list.append(pd.Series({'n_trees': n_trees, 'oob': oob_error}))\n",
    "    \n",
    "rf_oob_df = pd.concat(oob_list, axis=1).T.set_index('n_trees')\n",
    "\n",
    "ax = rf_oob_df.plot(legend=False, marker='o')\n",
    "ax.set(ylabel='out-of-bag error',\n",
    "      title='Evaluation of Out-of-Bag Error');"
   ]
  },
  {
   "cell_type": "code",
   "execution_count": 265,
   "id": "b2287cce",
   "metadata": {
    "scrolled": true,
    "tags": [
     "hide_code"
    ]
   },
   "outputs": [
    {
     "data": {
      "text/plain": [
       "RandomForestClassifier(n_estimators=500, n_jobs=-1, random_state=1)"
      ]
     },
     "execution_count": 265,
     "metadata": {},
     "output_type": "execute_result"
    }
   ],
   "source": [
    "# Create the model with 500 trees\n",
    "forest = RandomForestClassifier(n_estimators=500, random_state=1, n_jobs=-1)\n",
    "# Fit training data and training labels to forest\n",
    "forest.fit(X_train, y_train)"
   ]
  },
  {
   "cell_type": "code",
   "execution_count": 266,
   "id": "53296e76",
   "metadata": {},
   "outputs": [
    {
     "name": "stdout",
     "output_type": "stream",
     "text": [
      "Random Forest has an average number of nodes 60694 with an average maximum depth of 38.\n",
      "Model Accuracy for train data: 0.9947858707997292\n",
      "Model Accuracy for test data: 0.8586361507060162\n"
     ]
    }
   ],
   "source": [
    "n_nodes = []\n",
    "max_depths = []\n",
    "for ind_tree in forest .estimators_:\n",
    "    n_nodes.append(ind_tree.tree_.node_count)\n",
    "    max_depths.append(ind_tree.tree_.max_depth)   \n",
    "print(f'Random Forest has an average number of nodes {int(np.mean(n_nodes))} with an average maximum depth of {int(np.mean(max_depths))}.')\n",
    "print(f'Model Accuracy for train data: {forest.score(X_train, y_train)}')\n",
    "print(f'Model Accuracy for test data: {forest.score(X_test, y_test)}')\n"
   ]
  },
  {
   "cell_type": "markdown",
   "id": "da875078",
   "metadata": {},
   "source": [
    "From the above, all decision trees in random forests have many nodes and are very deep. Individual decision trees may overfit certain subsets of the training data, but using random forests gave slightly better accuracy ratings on the test data."
   ]
  },
  {
   "cell_type": "markdown",
   "id": "5f721639",
   "metadata": {},
   "source": [
    "### 1.1 Check Feature importance"
   ]
  },
  {
   "cell_type": "code",
   "execution_count": 267,
   "id": "34ac8731",
   "metadata": {
    "scrolled": true,
    "tags": [
     "hide_code"
    ]
   },
   "outputs": [
    {
     "name": "stdout",
     "output_type": "stream",
     "text": [
      "BMI                     0.184041\n",
      "Age                     0.121174\n",
      "Income                  0.097223\n",
      "PhysHlth                0.082688\n",
      "GenHlth                 0.073130\n",
      "Education               0.068828\n",
      "MentHlth                0.062810\n",
      "HighBP                  0.044329\n",
      "Smoker                  0.032852\n",
      "Fruits                  0.032796\n",
      "HighChol                0.028009\n",
      "Sex                     0.028005\n",
      "Veggies                 0.026243\n",
      "PhysActivity            0.025945\n",
      "DiffWalk                0.025143\n",
      "HeartDiseaseorAttack    0.019681\n",
      "NoDocbcCost             0.014851\n",
      "Stroke                  0.012359\n",
      "AnyHealthcare           0.008349\n",
      "HvyAlcoholConsump       0.007942\n",
      "CholCheck               0.003601\n",
      "dtype: float64\n"
     ]
    }
   ],
   "source": [
    "#defining of feature\n",
    "feature = pd.Series(forest.feature_importances_, index = X.columns).sort_values(ascending = False)\n",
    "print(feature)"
   ]
  },
  {
   "cell_type": "code",
   "execution_count": 268,
   "id": "845e0124",
   "metadata": {},
   "outputs": [
    {
     "data": {
      "image/png": "[encoded data removed]",
      "text/plain": [
       "<Figure size 432x288 with 1 Axes>"
      ]
     },
     "metadata": {
      "needs_background": "light"
     },
     "output_type": "display_data"
    }
   ],
   "source": [
    "feature_imp = pd.Series(forest.feature_importances_, \n",
    "                        index=X.columns).sort_values(ascending=False)\n",
    " \n",
    " \n",
    "ax = feature_imp.plot(kind='bar')\n",
    "ax.set(title='Feature Importance - Random Forest',\n",
    "       ylabel='Relative Importance');"
   ]
  },
  {
   "cell_type": "code",
   "execution_count": 269,
   "id": "84d56d13",
   "metadata": {},
   "outputs": [
    {
     "name": "stdout",
     "output_type": "stream",
     "text": [
      "Classification Report for  ['Random Forest']  :\n",
      "                precision    recall  f1-score   support\n",
      "\n",
      "           0       0.88      0.97      0.92     64064\n",
      "           1       0.51      0.20      0.28     10651\n",
      "\n",
      "    accuracy                           0.86     74715\n",
      "   macro avg       0.69      0.58      0.60     74715\n",
      "weighted avg       0.83      0.86      0.83     74715\n",
      "\n"
     ]
    }
   ],
   "source": [
    "# Predict target variables (ie. labels) for each classifer \n",
    "rf_classifier_name = [\"Random Forest\"]\n",
    "rf_predicted_labels = forest.predict(X_test)\n",
    " \n",
    "print(\"Classification Report for \",rf_classifier_name, \" :\\n \",\n",
    "      metrics.classification_report(y_test, rf_predicted_labels))"
   ]
  },
  {
   "cell_type": "code",
   "execution_count": 271,
   "id": "d0d56d39",
   "metadata": {},
   "outputs": [
    {
     "name": "stdout",
     "output_type": "stream",
     "text": [
      "[[62075  1989]\n",
      " [ 8573  2078]]\n"
     ]
    },
    {
     "data": {
      "image/png": "[encoded data removed]",
      "text/plain": [
       "<Figure size 576x432 with 2 Axes>"
      ]
     },
     "metadata": {
      "needs_background": "light"
     },
     "output_type": "display_data"
    }
   ],
   "source": [
    "#confusion matrix\n",
    "matrix = metrics.confusion_matrix(y_test, rf_predicted_labels)\n",
    "print(matrix)\n",
    "skplt.metrics.plot_confusion_matrix(y_test, rf_predicted_labels, normalize=True)\n",
    "plt.show()\n",
    "#heatmap matrix\n",
    "plt.figure(figsize = (8,6))\n",
    "sns.heatmap(matrix, annot = True, fmt = \".0f\", cmap = 'viridis')\n",
    "plt.title(\"Confusion Matrix\")\n",
    "plt.xlabel(\"Prediction\")\n",
    "plt.ylabel(\"Actual\")\n",
    "plt.show()"
   ]
  },
  {
   "cell_type": "markdown",
   "id": "26b4e969",
   "metadata": {},
   "source": [
    "Tpye I error is 0.03.(false positives: predicted the person has diabetes but actually do not have diabete) \n",
    "Type II error is 0.81. (false negative: predicted the person don't diabetes but actually do have diabete)"
   ]
  },
  {
   "cell_type": "code",
   "execution_count": 274,
   "id": "e2eae5cc",
   "metadata": {},
   "outputs": [
    {
     "data": {
      "image/png": "[encoded data removed]",
      "text/plain": [
       "<Figure size 432x288 with 1 Axes>"
      ]
     },
     "metadata": {
      "needs_background": "light"
     },
     "output_type": "display_data"
    }
   ],
   "source": [
    "rf = forest.fit(X_train, y_train.values.ravel()) \n",
    "rf_predicted_label_r = rf.predict_proba(X_test)\n",
    "ig, axList = plt.subplots(ncols=1)\n",
    "fig.set_size_inches(21,6)\n",
    "ax = axList\n",
    "def plot_auc(y, probs):\n",
    "    fpr, tpr, threshold = roc_curve(y, probs[:,1])\n",
    "    auc = roc_auc_score(y_test, rf_predicted_labels)\n",
    "    ax.plot(fpr, tpr, color = 'green', label = 'AUC_Random Forest = %0.2f' % auc)\n",
    "    ax.plot([0, 1], [0, 1],'r--')\n",
    "    ax.legend(loc = 'lower right')\n",
    "    ax.set(xlabel='False Positive Rate',\n",
    "           ylabel='True Positive Rate',\n",
    "           xlim=[0, 1], ylim=[0, 1],\n",
    "           title='ROC curve') \n",
    "    \n",
    "plot_auc(y_test, rf_predicted_label_r);\n",
    "ax.grid(True)"
   ]
  },
  {
   "cell_type": "markdown",
   "id": "f0792979",
   "metadata": {},
   "source": [
    "### 1.2 Optimization our model  "
   ]
  },
  {
   "cell_type": "code",
   "execution_count": 24,
   "id": "9266b790",
   "metadata": {},
   "outputs": [
    {
     "data": {
      "text/plain": [
       "0    213703\n",
       "1    213703\n",
       "Name: Diabetes_012, dtype: int64"
      ]
     },
     "execution_count": 24,
     "metadata": {},
     "output_type": "execute_result"
    }
   ],
   "source": [
    "# To get better model, we have to balance people have diabetes and don't have diabetes\n",
    "df_0 = df[df.Diabetes_012==0]\n",
    "df_1 = df[df.Diabetes_012==1]\n",
    " \n",
    "# Upsample people have diabetes data\n",
    "df_1_sample = resample(df_1,     replace=True,     # sample with replacement\n",
    "                                 n_samples=213703,  # to match majority class\n",
    "                                 random_state=1)   # reproducible results\n",
    " \n",
    "# Combine diabetes with No diabetes\n",
    "df_upsampled = pd.concat([df_0, df_1_sample])\n",
    "# Display new diabetes counts\n",
    "df_upsampled.Diabetes_012.value_counts()"
   ]
  },
  {
   "cell_type": "code",
   "execution_count": 25,
   "id": "d8f3e919",
   "metadata": {
    "tags": [
     "hide_code"
    ]
   },
   "outputs": [],
   "source": [
    "X = df_upsampled.iloc[:,1:22]  # independent columns - features\n",
    "y = df_upsampled.iloc[:,0]    # target column - Diabetes_012"
   ]
  },
  {
   "cell_type": "code",
   "execution_count": 26,
   "id": "90913fc9",
   "metadata": {
    "tags": [
     "hide_code"
    ]
   },
   "outputs": [
    {
     "name": "stderr",
     "output_type": "stream",
     "text": [
      "/var/folders/xk/bzswhdp94nzc63thcm13886w0000gn/T/ipykernel_18393/1595664260.py:1: SettingWithCopyWarning: \n",
      "A value is trying to be set on a copy of a slice from a DataFrame.\n",
      "Try using .loc[row_indexer,col_indexer] = value instead\n",
      "\n",
      "See the caveats in the documentation: https://pandas.pydata.org/pandas-docs/stable/user_guide/indexing.html#returning-a-view-versus-a-copy\n",
      "  X['BMI'] = np.log(X['BMI']) #transform BMI using log\n"
     ]
    },
    {
     "data": {
      "text/html": [
       "<div>\n",
       "<style scoped>\n",
       "    .dataframe tbody tr th:only-of-type {\n",
       "        vertical-align: middle;\n",
       "    }\n",
       "\n",
       "    .dataframe tbody tr th {\n",
       "        vertical-align: top;\n",
       "    }\n",
       "\n",
       "    .dataframe thead th {\n",
       "        text-align: right;\n",
       "    }\n",
       "</style>\n",
       "<table border=\"1\" class=\"dataframe\">\n",
       "  <thead>\n",
       "    <tr style=\"text-align: right;\">\n",
       "      <th></th>\n",
       "      <th>HighBP</th>\n",
       "      <th>HighChol</th>\n",
       "      <th>CholCheck</th>\n",
       "      <th>BMI</th>\n",
       "      <th>Smoker</th>\n",
       "      <th>Stroke</th>\n",
       "      <th>HeartDiseaseorAttack</th>\n",
       "      <th>PhysActivity</th>\n",
       "      <th>Fruits</th>\n",
       "      <th>Veggies</th>\n",
       "      <th>HvyAlcoholConsump</th>\n",
       "      <th>AnyHealthcare</th>\n",
       "      <th>NoDocbcCost</th>\n",
       "      <th>GenHlth</th>\n",
       "      <th>DiffWalk</th>\n",
       "      <th>Sex</th>\n",
       "      <th>Age</th>\n",
       "      <th>Education</th>\n",
       "      <th>Income</th>\n",
       "    </tr>\n",
       "  </thead>\n",
       "  <tbody>\n",
       "    <tr>\n",
       "      <th>0</th>\n",
       "      <td>1</td>\n",
       "      <td>1</td>\n",
       "      <td>1</td>\n",
       "      <td>3.688879</td>\n",
       "      <td>1</td>\n",
       "      <td>0</td>\n",
       "      <td>0</td>\n",
       "      <td>0</td>\n",
       "      <td>0</td>\n",
       "      <td>1</td>\n",
       "      <td>0</td>\n",
       "      <td>1</td>\n",
       "      <td>0</td>\n",
       "      <td>5</td>\n",
       "      <td>1</td>\n",
       "      <td>0</td>\n",
       "      <td>9</td>\n",
       "      <td>4</td>\n",
       "      <td>3</td>\n",
       "    </tr>\n",
       "    <tr>\n",
       "      <th>1</th>\n",
       "      <td>0</td>\n",
       "      <td>0</td>\n",
       "      <td>0</td>\n",
       "      <td>3.218876</td>\n",
       "      <td>1</td>\n",
       "      <td>0</td>\n",
       "      <td>0</td>\n",
       "      <td>1</td>\n",
       "      <td>0</td>\n",
       "      <td>0</td>\n",
       "      <td>0</td>\n",
       "      <td>0</td>\n",
       "      <td>1</td>\n",
       "      <td>3</td>\n",
       "      <td>0</td>\n",
       "      <td>0</td>\n",
       "      <td>7</td>\n",
       "      <td>6</td>\n",
       "      <td>1</td>\n",
       "    </tr>\n",
       "    <tr>\n",
       "      <th>2</th>\n",
       "      <td>1</td>\n",
       "      <td>1</td>\n",
       "      <td>1</td>\n",
       "      <td>3.332205</td>\n",
       "      <td>0</td>\n",
       "      <td>0</td>\n",
       "      <td>0</td>\n",
       "      <td>0</td>\n",
       "      <td>1</td>\n",
       "      <td>0</td>\n",
       "      <td>0</td>\n",
       "      <td>1</td>\n",
       "      <td>1</td>\n",
       "      <td>5</td>\n",
       "      <td>1</td>\n",
       "      <td>0</td>\n",
       "      <td>9</td>\n",
       "      <td>4</td>\n",
       "      <td>8</td>\n",
       "    </tr>\n",
       "    <tr>\n",
       "      <th>3</th>\n",
       "      <td>1</td>\n",
       "      <td>0</td>\n",
       "      <td>1</td>\n",
       "      <td>3.295837</td>\n",
       "      <td>0</td>\n",
       "      <td>0</td>\n",
       "      <td>0</td>\n",
       "      <td>1</td>\n",
       "      <td>1</td>\n",
       "      <td>1</td>\n",
       "      <td>0</td>\n",
       "      <td>1</td>\n",
       "      <td>0</td>\n",
       "      <td>2</td>\n",
       "      <td>0</td>\n",
       "      <td>0</td>\n",
       "      <td>11</td>\n",
       "      <td>3</td>\n",
       "      <td>6</td>\n",
       "    </tr>\n",
       "    <tr>\n",
       "      <th>4</th>\n",
       "      <td>1</td>\n",
       "      <td>1</td>\n",
       "      <td>1</td>\n",
       "      <td>3.178054</td>\n",
       "      <td>0</td>\n",
       "      <td>0</td>\n",
       "      <td>0</td>\n",
       "      <td>1</td>\n",
       "      <td>1</td>\n",
       "      <td>1</td>\n",
       "      <td>0</td>\n",
       "      <td>1</td>\n",
       "      <td>0</td>\n",
       "      <td>2</td>\n",
       "      <td>0</td>\n",
       "      <td>0</td>\n",
       "      <td>11</td>\n",
       "      <td>5</td>\n",
       "      <td>4</td>\n",
       "    </tr>\n",
       "    <tr>\n",
       "      <th>...</th>\n",
       "      <td>...</td>\n",
       "      <td>...</td>\n",
       "      <td>...</td>\n",
       "      <td>...</td>\n",
       "      <td>...</td>\n",
       "      <td>...</td>\n",
       "      <td>...</td>\n",
       "      <td>...</td>\n",
       "      <td>...</td>\n",
       "      <td>...</td>\n",
       "      <td>...</td>\n",
       "      <td>...</td>\n",
       "      <td>...</td>\n",
       "      <td>...</td>\n",
       "      <td>...</td>\n",
       "      <td>...</td>\n",
       "      <td>...</td>\n",
       "      <td>...</td>\n",
       "      <td>...</td>\n",
       "    </tr>\n",
       "    <tr>\n",
       "      <th>242200</th>\n",
       "      <td>1</td>\n",
       "      <td>1</td>\n",
       "      <td>1</td>\n",
       "      <td>3.465736</td>\n",
       "      <td>1</td>\n",
       "      <td>0</td>\n",
       "      <td>0</td>\n",
       "      <td>1</td>\n",
       "      <td>1</td>\n",
       "      <td>1</td>\n",
       "      <td>0</td>\n",
       "      <td>1</td>\n",
       "      <td>0</td>\n",
       "      <td>3</td>\n",
       "      <td>0</td>\n",
       "      <td>1</td>\n",
       "      <td>10</td>\n",
       "      <td>6</td>\n",
       "      <td>8</td>\n",
       "    </tr>\n",
       "    <tr>\n",
       "      <th>93802</th>\n",
       "      <td>0</td>\n",
       "      <td>0</td>\n",
       "      <td>1</td>\n",
       "      <td>3.091042</td>\n",
       "      <td>0</td>\n",
       "      <td>0</td>\n",
       "      <td>0</td>\n",
       "      <td>1</td>\n",
       "      <td>1</td>\n",
       "      <td>1</td>\n",
       "      <td>0</td>\n",
       "      <td>1</td>\n",
       "      <td>0</td>\n",
       "      <td>3</td>\n",
       "      <td>0</td>\n",
       "      <td>0</td>\n",
       "      <td>6</td>\n",
       "      <td>6</td>\n",
       "      <td>8</td>\n",
       "    </tr>\n",
       "    <tr>\n",
       "      <th>3311</th>\n",
       "      <td>1</td>\n",
       "      <td>1</td>\n",
       "      <td>1</td>\n",
       "      <td>3.637586</td>\n",
       "      <td>0</td>\n",
       "      <td>0</td>\n",
       "      <td>0</td>\n",
       "      <td>0</td>\n",
       "      <td>1</td>\n",
       "      <td>1</td>\n",
       "      <td>0</td>\n",
       "      <td>1</td>\n",
       "      <td>1</td>\n",
       "      <td>5</td>\n",
       "      <td>0</td>\n",
       "      <td>0</td>\n",
       "      <td>7</td>\n",
       "      <td>4</td>\n",
       "      <td>3</td>\n",
       "    </tr>\n",
       "    <tr>\n",
       "      <th>207646</th>\n",
       "      <td>1</td>\n",
       "      <td>0</td>\n",
       "      <td>1</td>\n",
       "      <td>3.806662</td>\n",
       "      <td>1</td>\n",
       "      <td>0</td>\n",
       "      <td>0</td>\n",
       "      <td>0</td>\n",
       "      <td>1</td>\n",
       "      <td>1</td>\n",
       "      <td>0</td>\n",
       "      <td>1</td>\n",
       "      <td>0</td>\n",
       "      <td>3</td>\n",
       "      <td>0</td>\n",
       "      <td>1</td>\n",
       "      <td>10</td>\n",
       "      <td>6</td>\n",
       "      <td>8</td>\n",
       "    </tr>\n",
       "    <tr>\n",
       "      <th>39212</th>\n",
       "      <td>1</td>\n",
       "      <td>1</td>\n",
       "      <td>1</td>\n",
       "      <td>3.526361</td>\n",
       "      <td>1</td>\n",
       "      <td>0</td>\n",
       "      <td>0</td>\n",
       "      <td>0</td>\n",
       "      <td>1</td>\n",
       "      <td>1</td>\n",
       "      <td>0</td>\n",
       "      <td>1</td>\n",
       "      <td>0</td>\n",
       "      <td>3</td>\n",
       "      <td>0</td>\n",
       "      <td>0</td>\n",
       "      <td>10</td>\n",
       "      <td>5</td>\n",
       "      <td>8</td>\n",
       "    </tr>\n",
       "  </tbody>\n",
       "</table>\n",
       "<p>427406 rows × 19 columns</p>\n",
       "</div>"
      ],
      "text/plain": [
       "        HighBP  HighChol  CholCheck       BMI  Smoker  Stroke  \\\n",
       "0            1         1          1  3.688879       1       0   \n",
       "1            0         0          0  3.218876       1       0   \n",
       "2            1         1          1  3.332205       0       0   \n",
       "3            1         0          1  3.295837       0       0   \n",
       "4            1         1          1  3.178054       0       0   \n",
       "...        ...       ...        ...       ...     ...     ...   \n",
       "242200       1         1          1  3.465736       1       0   \n",
       "93802        0         0          1  3.091042       0       0   \n",
       "3311         1         1          1  3.637586       0       0   \n",
       "207646       1         0          1  3.806662       1       0   \n",
       "39212        1         1          1  3.526361       1       0   \n",
       "\n",
       "        HeartDiseaseorAttack  PhysActivity  Fruits  Veggies  \\\n",
       "0                          0             0       0        1   \n",
       "1                          0             1       0        0   \n",
       "2                          0             0       1        0   \n",
       "3                          0             1       1        1   \n",
       "4                          0             1       1        1   \n",
       "...                      ...           ...     ...      ...   \n",
       "242200                     0             1       1        1   \n",
       "93802                      0             1       1        1   \n",
       "3311                       0             0       1        1   \n",
       "207646                     0             0       1        1   \n",
       "39212                      0             0       1        1   \n",
       "\n",
       "        HvyAlcoholConsump  AnyHealthcare  NoDocbcCost  GenHlth  DiffWalk  Sex  \\\n",
       "0                       0              1            0        5         1    0   \n",
       "1                       0              0            1        3         0    0   \n",
       "2                       0              1            1        5         1    0   \n",
       "3                       0              1            0        2         0    0   \n",
       "4                       0              1            0        2         0    0   \n",
       "...                   ...            ...          ...      ...       ...  ...   \n",
       "242200                  0              1            0        3         0    1   \n",
       "93802                   0              1            0        3         0    0   \n",
       "3311                    0              1            1        5         0    0   \n",
       "207646                  0              1            0        3         0    1   \n",
       "39212                   0              1            0        3         0    0   \n",
       "\n",
       "        Age  Education  Income  \n",
       "0         9          4       3  \n",
       "1         7          6       1  \n",
       "2         9          4       8  \n",
       "3        11          3       6  \n",
       "4        11          5       4  \n",
       "...     ...        ...     ...  \n",
       "242200   10          6       8  \n",
       "93802     6          6       8  \n",
       "3311      7          4       3  \n",
       "207646   10          6       8  \n",
       "39212    10          5       8  \n",
       "\n",
       "[427406 rows x 19 columns]"
      ]
     },
     "execution_count": 26,
     "metadata": {},
     "output_type": "execute_result"
    }
   ],
   "source": [
    "X['BMI'] = np.log(X['BMI']) #transform BMI using log\n",
    "X = X.drop(['PhysHlth','MentHlth'], axis=1) # drop 'PhysHlth','MentHlth' that are not important in our model\n",
    "X"
   ]
  },
  {
   "cell_type": "code",
   "execution_count": 28,
   "id": "a79eee80",
   "metadata": {
    "tags": [
     "hide_code"
    ]
   },
   "outputs": [],
   "source": [
    "# Split these data into training and testing datasets\n",
    "#70% training and 30% testing data\n",
    "X_train, X_test, y_train, y_test = train_test_split(X,y, test_size=0.3, random_state=100)\n",
    "# Initialise the random forest estimator\n",
    "# Set 'warm_start=true' so that more trees are added to the existing model each iteration\n",
    "RF = RandomForestClassifier(oob_score=True, random_state=1, \n",
    "                            warm_start=True, n_jobs=-1)\n",
    " \n",
    "# Perform pre-processing to scale numeric features\n",
    "scale = preprocessing.StandardScaler()\n",
    "X_train = scale.fit_transform(X_train)\n",
    " \n",
    "\n",
    "# Test features are scaled using the scaler computed for the training features\n",
    "X_test = scale.transform(X_test)  "
   ]
  },
  {
   "cell_type": "code",
   "execution_count": 29,
   "id": "4aa76ff1",
   "metadata": {
    "tags": [
     "hide_code"
    ]
   },
   "outputs": [
    {
     "name": "stderr",
     "output_type": "stream",
     "text": [
      "/Users/williecheng/opt/anaconda3/lib/python3.9/site-packages/sklearn/ensemble/_forest.py:560: UserWarning: Some inputs do not have OOB scores. This probably means too few trees were used to compute any reliable OOB estimates.\n",
      "  warn(\n",
      "/Users/williecheng/opt/anaconda3/lib/python3.9/site-packages/sklearn/ensemble/_forest.py:560: UserWarning: Some inputs do not have OOB scores. This probably means too few trees were used to compute any reliable OOB estimates.\n",
      "  warn(\n"
     ]
    },
    {
     "data": {
      "image/png": "[encoded data removed]",
      "text/plain": [
       "<Figure size 432x288 with 1 Axes>"
      ]
     },
     "metadata": {
      "needs_background": "light"
     },
     "output_type": "display_data"
    }
   ],
   "source": [
    "oob_list = list()\n",
    " \n",
    " \n",
    "# Iterate through all of the possibilities for the number of trees\n",
    "for n_trees in [15, 20, 30, 40, 50, 100, 150, 200, 300, 400, 500, 600]:\n",
    "    RF.set_params(n_estimators=n_trees)  # Set number of trees\n",
    "    RF.fit(X_train, y_train)\n",
    "    oob_error = 1 - RF.oob_score_ # Obtain the oob error\n",
    "    oob_list.append(pd.Series({'n_trees': n_trees, 'oob': oob_error}))\n",
    " \n",
    " \n",
    "rf_oob_df = pd.concat(oob_list, axis=1).T.set_index('n_trees')\n",
    " \n",
    " \n",
    "ax = rf_oob_df.plot(legend=False, marker='o')\n",
    "ax.set(ylabel='out-of-bag error',\n",
    "      title='Evaluation of Out-of-Bag Error');"
   ]
  },
  {
   "cell_type": "code",
   "execution_count": 30,
   "id": "eb35b470",
   "metadata": {},
   "outputs": [
    {
     "data": {
      "text/plain": [
       "RandomForestClassifier(n_estimators=300, n_jobs=-1, random_state=1)"
      ]
     },
     "execution_count": 30,
     "metadata": {},
     "output_type": "execute_result"
    }
   ],
   "source": [
    "# Create the model with 300 trees\n",
    "forest = RandomForestClassifier(n_estimators=300, random_state=1, n_jobs=-1)\n",
    " \n",
    " \n",
    "# Fit training data and training labels to forest\n",
    "forest.fit(X_train, y_train)"
   ]
  },
  {
   "cell_type": "code",
   "execution_count": 33,
   "id": "e6d80f9c",
   "metadata": {
    "tags": [
     "hide_code"
    ]
   },
   "outputs": [
    {
     "name": "stdout",
     "output_type": "stream",
     "text": [
      "Random Forest has an average number of nodes 98399 with an average maximum depth of 35.\n",
      "Model Accuracy for train data: 0.9854036312102251\n",
      "Model Accuracy for test data: 0.9270016065885729\n"
     ]
    }
   ],
   "source": [
    "n_nodes = []\n",
    "max_depths = []\n",
    "for ind_tree in forest .estimators_:\n",
    "    n_nodes.append(ind_tree.tree_.node_count)\n",
    "    max_depths.append(ind_tree.tree_.max_depth)\n",
    "    \n",
    "print(f'Random Forest has an average number of nodes {int(np.mean(n_nodes))} with an average maximum depth of {int(np.mean(max_depths))}.') \n",
    "print(f'Model Accuracy for train data: {forest.score(X_train, y_train)}')\n",
    "print(f'Model Accuracy for test data: {forest.score(X_test, y_test)}')\n"
   ]
  },
  {
   "cell_type": "code",
   "execution_count": 35,
   "id": "2f38d13b",
   "metadata": {
    "scrolled": false,
    "tags": [
     "hide_code"
    ]
   },
   "outputs": [
    {
     "name": "stdout",
     "output_type": "stream",
     "text": [
      "BMI                     0.205815\n",
      "Age                     0.148702\n",
      "GenHlth                 0.115439\n",
      "Income                  0.100602\n",
      "HighBP                  0.081269\n",
      "Education               0.069241\n",
      "HighChol                0.042667\n",
      "Fruits                  0.031469\n",
      "Smoker                  0.031407\n",
      "DiffWalk                0.029333\n",
      "Sex                     0.026114\n",
      "PhysActivity            0.025161\n",
      "Veggies                 0.024424\n",
      "HeartDiseaseorAttack    0.018851\n",
      "NoDocbcCost             0.014238\n",
      "Stroke                  0.010887\n",
      "HvyAlcoholConsump       0.009720\n",
      "AnyHealthcare           0.008534\n",
      "CholCheck               0.006125\n",
      "dtype: float64\n"
     ]
    }
   ],
   "source": [
    "#defining of feature\n",
    "feature = pd.Series(forest.feature_importances_, index = X.columns).sort_values(ascending = False)\n",
    "print(feature)"
   ]
  },
  {
   "cell_type": "code",
   "execution_count": 36,
   "id": "5a16f7cd",
   "metadata": {
    "tags": [
     "hide_code"
    ]
   },
   "outputs": [
    {
     "name": "stdout",
     "output_type": "stream",
     "text": [
      "Classification Report for  ['Optimized Random Forest']  :\n",
      "                precision    recall  f1-score   support\n",
      "\n",
      "           0       0.98      0.87      0.92     64013\n",
      "           1       0.89      0.98      0.93     64209\n",
      "\n",
      "    accuracy                           0.93    128222\n",
      "   macro avg       0.93      0.93      0.93    128222\n",
      "weighted avg       0.93      0.93      0.93    128222\n",
      "\n"
     ]
    }
   ],
   "source": [
    "# Predict target variables (ie. labels) for each classifer \n",
    "rf_classifier_name = [\"Optimized Random Forest\"]\n",
    "rf_predicted_labels = forest.predict(X_test)\n",
    " \n",
    "print(\"Classification Report for \",rf_classifier_name, \" :\\n \",\n",
    "      metrics.classification_report(y_test, rf_predicted_labels))"
   ]
  },
  {
   "cell_type": "code",
   "execution_count": 38,
   "id": "aefe72c6",
   "metadata": {},
   "outputs": [
    {
     "data": {
      "image/png": "[encoded data removed]",
      "text/plain": [
       "<Figure size 1512x432 with 1 Axes>"
      ]
     },
     "metadata": {
      "needs_background": "light"
     },
     "output_type": "display_data"
    }
   ],
   "source": [
    "rf = forest.fit(X_train, y_train.values.ravel()) \n",
    "rf_predicted_label_r = rf.predict_proba(X_test)\n",
    "fig, axList = plt.subplots(ncols=1)\n",
    "fig.set_size_inches(21,6)\n",
    "\n",
    "ax = axList\n",
    "def plot_auc(y, probs):\n",
    "    fpr, tpr, threshold = roc_curve(y, probs[:,1])\n",
    "    auc = roc_auc_score(y_test, rf_predicted_labels)\n",
    "    ax.plot(fpr, tpr, color = 'green', label = 'AUC_Opt_Random Forest = %0.2f' % auc)\n",
    "    ax.plot([0, 1], [0, 1],'r--')\n",
    "    ax.legend(loc = 'lower right')\n",
    "    ax.set(xlabel='False Positive Rate',\n",
    "           ylabel='True Positive Rate',\n",
    "           xlim=[0, 1], ylim=[0, 1],\n",
    "           title='ROC curve') \n",
    "    \n",
    "plot_auc(y_test, rf_predicted_label_r);\n",
    "ax.grid(True)"
   ]
  },
  {
   "cell_type": "code",
   "execution_count": 289,
   "id": "b48b5053",
   "metadata": {},
   "outputs": [
    {
     "data": {
      "image/png": "[encoded data removed]",
      "text/plain": [
       "<Figure size 432x288 with 2 Axes>"
      ]
     },
     "metadata": {
      "needs_background": "light"
     },
     "output_type": "display_data"
    }
   ],
   "source": [
    "skplt.metrics.plot_confusion_matrix(y_test, rf_predicted_labels, normalize=True)\n",
    "plt.show()"
   ]
  },
  {
   "cell_type": "markdown",
   "id": "2b23e622",
   "metadata": {},
   "source": [
    "# Logistic Regression"
   ]
  },
  {
   "cell_type": "code",
   "execution_count": 42,
   "id": "1f37deda",
   "metadata": {},
   "outputs": [],
   "source": [
    "import pandas as pd\n",
    "import numpy as np\n",
    "import statsmodels.api as sm \n",
    "import plotnine as p9\n",
    "from scipy import stats"
   ]
  },
  {
   "cell_type": "code",
   "execution_count": 43,
   "id": "5f3cfb18",
   "metadata": {},
   "outputs": [],
   "source": [
    "X = df.iloc[:,1:22]  # independent columns - features\n",
    "y = df.iloc[:,0]    # target column - Diabetes_012"
   ]
  },
  {
   "cell_type": "code",
   "execution_count": 44,
   "id": "3645dc78",
   "metadata": {},
   "outputs": [],
   "source": [
    "# Split these data into training and testing datasets\n",
    "X_train, X_test, y_train, y_test = train_test_split(X,y, test_size=0.3, random_state=0)"
   ]
  },
  {
   "cell_type": "code",
   "execution_count": 45,
   "id": "53a7fa08",
   "metadata": {},
   "outputs": [
    {
     "data": {
      "text/html": [
       "<table class=\"simpletable\">\n",
       "<caption>Generalized Linear Model Regression Results</caption>\n",
       "<tr>\n",
       "  <th>Dep. Variable:</th>     <td>Diabetes_012</td>   <th>  No. Observations:  </th>   <td>174334</td>  \n",
       "</tr>\n",
       "<tr>\n",
       "  <th>Model:</th>                  <td>GLM</td>       <th>  Df Residuals:      </th>   <td>174313</td>  \n",
       "</tr>\n",
       "<tr>\n",
       "  <th>Model Family:</th>        <td>Binomial</td>     <th>  Df Model:          </th>   <td>    20</td>  \n",
       "</tr>\n",
       "<tr>\n",
       "  <th>Link Function:</th>         <td>Logit</td>      <th>  Scale:             </th>  <td>  1.0000</td> \n",
       "</tr>\n",
       "<tr>\n",
       "  <th>Method:</th>                <td>IRLS</td>       <th>  Log-Likelihood:    </th>  <td> -59639.</td> \n",
       "</tr>\n",
       "<tr>\n",
       "  <th>Date:</th>            <td>Mon, 05 Dec 2022</td> <th>  Deviance:          </th> <td>1.1928e+05</td>\n",
       "</tr>\n",
       "<tr>\n",
       "  <th>Time:</th>                <td>17:50:25</td>     <th>  Pearson chi2:      </th>  <td>1.61e+05</td> \n",
       "</tr>\n",
       "<tr>\n",
       "  <th>No. Iterations:</th>          <td>6</td>        <th>  Pseudo R-squ. (CS):</th>   <td>0.1247</td>  \n",
       "</tr>\n",
       "<tr>\n",
       "  <th>Covariance Type:</th>     <td>nonrobust</td>    <th>                     </th>      <td> </td>    \n",
       "</tr>\n",
       "</table>\n",
       "<table class=\"simpletable\">\n",
       "<tr>\n",
       "            <td></td>              <th>coef</th>     <th>std err</th>      <th>z</th>      <th>P>|z|</th>  <th>[0.025</th>    <th>0.975]</th>  \n",
       "</tr>\n",
       "<tr>\n",
       "  <th>HighBP</th>               <td>    0.9031</td> <td>    0.017</td> <td>   52.370</td> <td> 0.000</td> <td>    0.869</td> <td>    0.937</td>\n",
       "</tr>\n",
       "<tr>\n",
       "  <th>HighChol</th>             <td>    0.6289</td> <td>    0.016</td> <td>   39.397</td> <td> 0.000</td> <td>    0.598</td> <td>    0.660</td>\n",
       "</tr>\n",
       "<tr>\n",
       "  <th>CholCheck</th>            <td>   -1.0161</td> <td>    0.034</td> <td>  -30.124</td> <td> 0.000</td> <td>   -1.082</td> <td>   -0.950</td>\n",
       "</tr>\n",
       "<tr>\n",
       "  <th>BMI</th>                  <td>    0.0218</td> <td>    0.001</td> <td>   22.620</td> <td> 0.000</td> <td>    0.020</td> <td>    0.024</td>\n",
       "</tr>\n",
       "<tr>\n",
       "  <th>Smoker</th>               <td>   -0.1800</td> <td>    0.015</td> <td>  -11.723</td> <td> 0.000</td> <td>   -0.210</td> <td>   -0.150</td>\n",
       "</tr>\n",
       "<tr>\n",
       "  <th>Stroke</th>               <td>    0.1231</td> <td>    0.030</td> <td>    4.048</td> <td> 0.000</td> <td>    0.064</td> <td>    0.183</td>\n",
       "</tr>\n",
       "<tr>\n",
       "  <th>HeartDiseaseorAttack</th> <td>    0.4136</td> <td>    0.021</td> <td>   19.380</td> <td> 0.000</td> <td>    0.372</td> <td>    0.455</td>\n",
       "</tr>\n",
       "<tr>\n",
       "  <th>PhysActivity</th>         <td>   -0.2627</td> <td>    0.016</td> <td>  -16.065</td> <td> 0.000</td> <td>   -0.295</td> <td>   -0.231</td>\n",
       "</tr>\n",
       "<tr>\n",
       "  <th>Fruits</th>               <td>   -0.0938</td> <td>    0.016</td> <td>   -5.912</td> <td> 0.000</td> <td>   -0.125</td> <td>   -0.063</td>\n",
       "</tr>\n",
       "<tr>\n",
       "  <th>Veggies</th>              <td>   -0.1982</td> <td>    0.018</td> <td>  -11.048</td> <td> 0.000</td> <td>   -0.233</td> <td>   -0.163</td>\n",
       "</tr>\n",
       "<tr>\n",
       "  <th>HvyAlcoholConsump</th>    <td>   -0.9163</td> <td>    0.046</td> <td>  -19.986</td> <td> 0.000</td> <td>   -1.006</td> <td>   -0.826</td>\n",
       "</tr>\n",
       "<tr>\n",
       "  <th>AnyHealthcare</th>        <td>   -0.6777</td> <td>    0.030</td> <td>  -22.229</td> <td> 0.000</td> <td>   -0.737</td> <td>   -0.618</td>\n",
       "</tr>\n",
       "<tr>\n",
       "  <th>NoDocbcCost</th>          <td>   -0.4087</td> <td>    0.027</td> <td>  -15.226</td> <td> 0.000</td> <td>   -0.461</td> <td>   -0.356</td>\n",
       "</tr>\n",
       "<tr>\n",
       "  <th>GenHlth</th>              <td>    0.2493</td> <td>    0.009</td> <td>   28.845</td> <td> 0.000</td> <td>    0.232</td> <td>    0.266</td>\n",
       "</tr>\n",
       "<tr>\n",
       "  <th>MentHlth</th>             <td>   -0.0091</td> <td>    0.001</td> <td>   -9.000</td> <td> 0.000</td> <td>   -0.011</td> <td>   -0.007</td>\n",
       "</tr>\n",
       "<tr>\n",
       "  <th>PhysHlth</th>             <td>    0.0013</td> <td>    0.001</td> <td>    1.440</td> <td> 0.150</td> <td>   -0.000</td> <td>    0.003</td>\n",
       "</tr>\n",
       "<tr>\n",
       "  <th>DiffWalk</th>             <td>    0.2930</td> <td>    0.020</td> <td>   14.566</td> <td> 0.000</td> <td>    0.254</td> <td>    0.332</td>\n",
       "</tr>\n",
       "<tr>\n",
       "  <th>Sex</th>                  <td>    0.1360</td> <td>    0.016</td> <td>    8.725</td> <td> 0.000</td> <td>    0.105</td> <td>    0.167</td>\n",
       "</tr>\n",
       "<tr>\n",
       "  <th>Age</th>                  <td>    0.0214</td> <td>    0.003</td> <td>    7.502</td> <td> 0.000</td> <td>    0.016</td> <td>    0.027</td>\n",
       "</tr>\n",
       "<tr>\n",
       "  <th>Education</th>            <td>   -0.3207</td> <td>    0.007</td> <td>  -44.312</td> <td> 0.000</td> <td>   -0.335</td> <td>   -0.307</td>\n",
       "</tr>\n",
       "<tr>\n",
       "  <th>Income</th>               <td>   -0.0929</td> <td>    0.004</td> <td>  -23.157</td> <td> 0.000</td> <td>   -0.101</td> <td>   -0.085</td>\n",
       "</tr>\n",
       "</table>"
      ],
      "text/plain": [
       "<class 'statsmodels.iolib.summary.Summary'>\n",
       "\"\"\"\n",
       "                 Generalized Linear Model Regression Results                  \n",
       "==============================================================================\n",
       "Dep. Variable:           Diabetes_012   No. Observations:               174334\n",
       "Model:                            GLM   Df Residuals:                   174313\n",
       "Model Family:                Binomial   Df Model:                           20\n",
       "Link Function:                  Logit   Scale:                          1.0000\n",
       "Method:                          IRLS   Log-Likelihood:                -59639.\n",
       "Date:                Mon, 05 Dec 2022   Deviance:                   1.1928e+05\n",
       "Time:                        17:50:25   Pearson chi2:                 1.61e+05\n",
       "No. Iterations:                     6   Pseudo R-squ. (CS):             0.1247\n",
       "Covariance Type:            nonrobust                                         \n",
       "========================================================================================\n",
       "                           coef    std err          z      P>|z|      [0.025      0.975]\n",
       "----------------------------------------------------------------------------------------\n",
       "HighBP                   0.9031      0.017     52.370      0.000       0.869       0.937\n",
       "HighChol                 0.6289      0.016     39.397      0.000       0.598       0.660\n",
       "CholCheck               -1.0161      0.034    -30.124      0.000      -1.082      -0.950\n",
       "BMI                      0.0218      0.001     22.620      0.000       0.020       0.024\n",
       "Smoker                  -0.1800      0.015    -11.723      0.000      -0.210      -0.150\n",
       "Stroke                   0.1231      0.030      4.048      0.000       0.064       0.183\n",
       "HeartDiseaseorAttack     0.4136      0.021     19.380      0.000       0.372       0.455\n",
       "PhysActivity            -0.2627      0.016    -16.065      0.000      -0.295      -0.231\n",
       "Fruits                  -0.0938      0.016     -5.912      0.000      -0.125      -0.063\n",
       "Veggies                 -0.1982      0.018    -11.048      0.000      -0.233      -0.163\n",
       "HvyAlcoholConsump       -0.9163      0.046    -19.986      0.000      -1.006      -0.826\n",
       "AnyHealthcare           -0.6777      0.030    -22.229      0.000      -0.737      -0.618\n",
       "NoDocbcCost             -0.4087      0.027    -15.226      0.000      -0.461      -0.356\n",
       "GenHlth                  0.2493      0.009     28.845      0.000       0.232       0.266\n",
       "MentHlth                -0.0091      0.001     -9.000      0.000      -0.011      -0.007\n",
       "PhysHlth                 0.0013      0.001      1.440      0.150      -0.000       0.003\n",
       "DiffWalk                 0.2930      0.020     14.566      0.000       0.254       0.332\n",
       "Sex                      0.1360      0.016      8.725      0.000       0.105       0.167\n",
       "Age                      0.0214      0.003      7.502      0.000       0.016       0.027\n",
       "Education               -0.3207      0.007    -44.312      0.000      -0.335      -0.307\n",
       "Income                  -0.0929      0.004    -23.157      0.000      -0.101      -0.085\n",
       "========================================================================================\n",
       "\"\"\""
      ]
     },
     "execution_count": 45,
     "metadata": {},
     "output_type": "execute_result"
    }
   ],
   "source": [
    "log_reg_full = sm.GLM(y_train, X_train, family=sm.families.Binomial()).fit()\n",
    "log_reg_full.summary()"
   ]
  },
  {
   "cell_type": "code",
   "execution_count": 46,
   "id": "a131c5ac",
   "metadata": {},
   "outputs": [],
   "source": [
    "# drop PhysHlth\n",
    "X  = X.drop(['PhysHlth'], axis=1)"
   ]
  },
  {
   "cell_type": "code",
   "execution_count": 47,
   "id": "137198b9",
   "metadata": {},
   "outputs": [],
   "source": [
    "# Split these data into training and testing datasets\n",
    "X_train, X_test, y_train, y_test = train_test_split(X,y, test_size=0.3, random_state=0)"
   ]
  },
  {
   "cell_type": "code",
   "execution_count": 49,
   "id": "98babb11",
   "metadata": {},
   "outputs": [
    {
     "data": {
      "text/html": [
       "<table class=\"simpletable\">\n",
       "<caption>Generalized Linear Model Regression Results</caption>\n",
       "<tr>\n",
       "  <th>Dep. Variable:</th>     <td>Diabetes_012</td>   <th>  No. Observations:  </th>   <td>174334</td>  \n",
       "</tr>\n",
       "<tr>\n",
       "  <th>Model:</th>                  <td>GLM</td>       <th>  Df Residuals:      </th>   <td>174314</td>  \n",
       "</tr>\n",
       "<tr>\n",
       "  <th>Model Family:</th>        <td>Binomial</td>     <th>  Df Model:          </th>   <td>    19</td>  \n",
       "</tr>\n",
       "<tr>\n",
       "  <th>Link Function:</th>         <td>Logit</td>      <th>  Scale:             </th>  <td>  1.0000</td> \n",
       "</tr>\n",
       "<tr>\n",
       "  <th>Method:</th>                <td>IRLS</td>       <th>  Log-Likelihood:    </th>  <td> -59640.</td> \n",
       "</tr>\n",
       "<tr>\n",
       "  <th>Date:</th>            <td>Mon, 05 Dec 2022</td> <th>  Deviance:          </th> <td>1.1928e+05</td>\n",
       "</tr>\n",
       "<tr>\n",
       "  <th>Time:</th>                <td>17:51:12</td>     <th>  Pearson chi2:      </th>  <td>1.61e+05</td> \n",
       "</tr>\n",
       "<tr>\n",
       "  <th>No. Iterations:</th>          <td>6</td>        <th>  Pseudo R-squ. (CS):</th>   <td>0.1246</td>  \n",
       "</tr>\n",
       "<tr>\n",
       "  <th>Covariance Type:</th>     <td>nonrobust</td>    <th>                     </th>      <td> </td>    \n",
       "</tr>\n",
       "</table>\n",
       "<table class=\"simpletable\">\n",
       "<tr>\n",
       "            <td></td>              <th>coef</th>     <th>std err</th>      <th>z</th>      <th>P>|z|</th>  <th>[0.025</th>    <th>0.975]</th>  \n",
       "</tr>\n",
       "<tr>\n",
       "  <th>HighBP</th>               <td>    0.9028</td> <td>    0.017</td> <td>   52.359</td> <td> 0.000</td> <td>    0.869</td> <td>    0.937</td>\n",
       "</tr>\n",
       "<tr>\n",
       "  <th>HighChol</th>             <td>    0.6289</td> <td>    0.016</td> <td>   39.402</td> <td> 0.000</td> <td>    0.598</td> <td>    0.660</td>\n",
       "</tr>\n",
       "<tr>\n",
       "  <th>CholCheck</th>            <td>   -1.0175</td> <td>    0.034</td> <td>  -30.189</td> <td> 0.000</td> <td>   -1.084</td> <td>   -0.951</td>\n",
       "</tr>\n",
       "<tr>\n",
       "  <th>BMI</th>                  <td>    0.0216</td> <td>    0.001</td> <td>   22.577</td> <td> 0.000</td> <td>    0.020</td> <td>    0.024</td>\n",
       "</tr>\n",
       "<tr>\n",
       "  <th>Smoker</th>               <td>   -0.1799</td> <td>    0.015</td> <td>  -11.717</td> <td> 0.000</td> <td>   -0.210</td> <td>   -0.150</td>\n",
       "</tr>\n",
       "<tr>\n",
       "  <th>Stroke</th>               <td>    0.1242</td> <td>    0.030</td> <td>    4.086</td> <td> 0.000</td> <td>    0.065</td> <td>    0.184</td>\n",
       "</tr>\n",
       "<tr>\n",
       "  <th>HeartDiseaseorAttack</th> <td>    0.4144</td> <td>    0.021</td> <td>   19.431</td> <td> 0.000</td> <td>    0.373</td> <td>    0.456</td>\n",
       "</tr>\n",
       "<tr>\n",
       "  <th>PhysActivity</th>         <td>   -0.2644</td> <td>    0.016</td> <td>  -16.222</td> <td> 0.000</td> <td>   -0.296</td> <td>   -0.232</td>\n",
       "</tr>\n",
       "<tr>\n",
       "  <th>Fruits</th>               <td>   -0.0935</td> <td>    0.016</td> <td>   -5.893</td> <td> 0.000</td> <td>   -0.125</td> <td>   -0.062</td>\n",
       "</tr>\n",
       "<tr>\n",
       "  <th>Veggies</th>              <td>   -0.1981</td> <td>    0.018</td> <td>  -11.046</td> <td> 0.000</td> <td>   -0.233</td> <td>   -0.163</td>\n",
       "</tr>\n",
       "<tr>\n",
       "  <th>HvyAlcoholConsump</th>    <td>   -0.9171</td> <td>    0.046</td> <td>  -20.006</td> <td> 0.000</td> <td>   -1.007</td> <td>   -0.827</td>\n",
       "</tr>\n",
       "<tr>\n",
       "  <th>AnyHealthcare</th>        <td>   -0.6774</td> <td>    0.030</td> <td>  -22.223</td> <td> 0.000</td> <td>   -0.737</td> <td>   -0.618</td>\n",
       "</tr>\n",
       "<tr>\n",
       "  <th>NoDocbcCost</th>          <td>   -0.4081</td> <td>    0.027</td> <td>  -15.208</td> <td> 0.000</td> <td>   -0.461</td> <td>   -0.356</td>\n",
       "</tr>\n",
       "<tr>\n",
       "  <th>GenHlth</th>              <td>    0.2537</td> <td>    0.008</td> <td>   31.336</td> <td> 0.000</td> <td>    0.238</td> <td>    0.270</td>\n",
       "</tr>\n",
       "<tr>\n",
       "  <th>MentHlth</th>             <td>   -0.0088</td> <td>    0.001</td> <td>   -8.901</td> <td> 0.000</td> <td>   -0.011</td> <td>   -0.007</td>\n",
       "</tr>\n",
       "<tr>\n",
       "  <th>DiffWalk</th>             <td>    0.3008</td> <td>    0.019</td> <td>   15.532</td> <td> 0.000</td> <td>    0.263</td> <td>    0.339</td>\n",
       "</tr>\n",
       "<tr>\n",
       "  <th>Sex</th>                  <td>    0.1359</td> <td>    0.016</td> <td>    8.718</td> <td> 0.000</td> <td>    0.105</td> <td>    0.166</td>\n",
       "</tr>\n",
       "<tr>\n",
       "  <th>Age</th>                  <td>    0.0212</td> <td>    0.003</td> <td>    7.447</td> <td> 0.000</td> <td>    0.016</td> <td>    0.027</td>\n",
       "</tr>\n",
       "<tr>\n",
       "  <th>Education</th>            <td>   -0.3207</td> <td>    0.007</td> <td>  -44.318</td> <td> 0.000</td> <td>   -0.335</td> <td>   -0.307</td>\n",
       "</tr>\n",
       "<tr>\n",
       "  <th>Income</th>               <td>   -0.0931</td> <td>    0.004</td> <td>  -23.208</td> <td> 0.000</td> <td>   -0.101</td> <td>   -0.085</td>\n",
       "</tr>\n",
       "</table>"
      ],
      "text/plain": [
       "<class 'statsmodels.iolib.summary.Summary'>\n",
       "\"\"\"\n",
       "                 Generalized Linear Model Regression Results                  \n",
       "==============================================================================\n",
       "Dep. Variable:           Diabetes_012   No. Observations:               174334\n",
       "Model:                            GLM   Df Residuals:                   174314\n",
       "Model Family:                Binomial   Df Model:                           19\n",
       "Link Function:                  Logit   Scale:                          1.0000\n",
       "Method:                          IRLS   Log-Likelihood:                -59640.\n",
       "Date:                Mon, 05 Dec 2022   Deviance:                   1.1928e+05\n",
       "Time:                        17:51:12   Pearson chi2:                 1.61e+05\n",
       "No. Iterations:                     6   Pseudo R-squ. (CS):             0.1246\n",
       "Covariance Type:            nonrobust                                         \n",
       "========================================================================================\n",
       "                           coef    std err          z      P>|z|      [0.025      0.975]\n",
       "----------------------------------------------------------------------------------------\n",
       "HighBP                   0.9028      0.017     52.359      0.000       0.869       0.937\n",
       "HighChol                 0.6289      0.016     39.402      0.000       0.598       0.660\n",
       "CholCheck               -1.0175      0.034    -30.189      0.000      -1.084      -0.951\n",
       "BMI                      0.0216      0.001     22.577      0.000       0.020       0.024\n",
       "Smoker                  -0.1799      0.015    -11.717      0.000      -0.210      -0.150\n",
       "Stroke                   0.1242      0.030      4.086      0.000       0.065       0.184\n",
       "HeartDiseaseorAttack     0.4144      0.021     19.431      0.000       0.373       0.456\n",
       "PhysActivity            -0.2644      0.016    -16.222      0.000      -0.296      -0.232\n",
       "Fruits                  -0.0935      0.016     -5.893      0.000      -0.125      -0.062\n",
       "Veggies                 -0.1981      0.018    -11.046      0.000      -0.233      -0.163\n",
       "HvyAlcoholConsump       -0.9171      0.046    -20.006      0.000      -1.007      -0.827\n",
       "AnyHealthcare           -0.6774      0.030    -22.223      0.000      -0.737      -0.618\n",
       "NoDocbcCost             -0.4081      0.027    -15.208      0.000      -0.461      -0.356\n",
       "GenHlth                  0.2537      0.008     31.336      0.000       0.238       0.270\n",
       "MentHlth                -0.0088      0.001     -8.901      0.000      -0.011      -0.007\n",
       "DiffWalk                 0.3008      0.019     15.532      0.000       0.263       0.339\n",
       "Sex                      0.1359      0.016      8.718      0.000       0.105       0.166\n",
       "Age                      0.0212      0.003      7.447      0.000       0.016       0.027\n",
       "Education               -0.3207      0.007    -44.318      0.000      -0.335      -0.307\n",
       "Income                  -0.0931      0.004    -23.208      0.000      -0.101      -0.085\n",
       "========================================================================================\n",
       "\"\"\""
      ]
     },
     "execution_count": 49,
     "metadata": {},
     "output_type": "execute_result"
    }
   ],
   "source": [
    "log_reg_red = sm.GLM(y_train, X_train, family=sm.families.Binomial()).fit()\n",
    "log_reg_red.summary()"
   ]
  },
  {
   "cell_type": "code",
   "execution_count": 69,
   "id": "05599dcd",
   "metadata": {},
   "outputs": [
    {
     "name": "stdout",
     "output_type": "stream",
     "text": [
      "Classification Report for  ['Logistic Regression']  :\n",
      "                precision    recall  f1-score   support\n",
      "\n",
      "           0       0.87      0.97      0.92     64133\n",
      "           1       0.47      0.14      0.22     10582\n",
      "\n",
      "    accuracy                           0.86     74715\n",
      "   macro avg       0.67      0.56      0.57     74715\n",
      "weighted avg       0.82      0.86      0.82     74715\n",
      "\n",
      "\n",
      "Test accuracy =  0.8560128488255371\n"
     ]
    }
   ],
   "source": [
    "from sklearn.metrics import confusion_matrix, accuracy_score\n",
    "# Predict responses \n",
    "rf_classifier_name = [\"Logistic Regression\"]\n",
    "pred = log_reg_red.predict(X_test)\n",
    "predictions = list(map(round, pred))\n",
    "\n",
    "print(\"Classification Report for \",rf_classifier_name, \" :\\n \",\n",
    "      metrics.classification_report(y_test, predictions))\n",
    "#print(classification_report(y_test,predictions))\n",
    "# Accuracy score\n",
    "print('\\nTest accuracy = ', accuracy_score(y_test, predictions))"
   ]
  },
  {
   "cell_type": "code",
   "execution_count": 67,
   "id": "31531651",
   "metadata": {},
   "outputs": [
    {
     "name": "stdout",
     "output_type": "stream",
     "text": [
      "[[62427  1706]\n",
      " [ 9052  1530]]\n"
     ]
    },
    {
     "data": {
      "image/png": "[encoded data removed]",
      "text/plain": [
       "<Figure size 576x432 with 2 Axes>"
      ]
     },
     "metadata": {
      "needs_background": "light"
     },
     "output_type": "display_data"
    }
   ],
   "source": [
    "#confusion matrix\n",
    "matrix = metrics.confusion_matrix(y_test, predictions)\n",
    "print(matrix)\n",
    "#heatmap matrix\n",
    "plt.figure(figsize = (8,6))\n",
    "sns.heatmap(matrix, annot = True, fmt = \".0f\", cmap = 'viridis')\n",
    "plt.title(\"Confusion Matrix\")\n",
    "plt.xlabel(\"Prediction\")\n",
    "plt.ylabel(\"Actual\")\n",
    "plt.show()"
   ]
  },
  {
   "cell_type": "code",
   "execution_count": 65,
   "id": "f6edbb62",
   "metadata": {},
   "outputs": [
    {
     "data": {
      "image/png": "[encoded data removed]",
      "text/plain": [
       "<Figure size 432x288 with 2 Axes>"
      ]
     },
     "metadata": {
      "needs_background": "light"
     },
     "output_type": "display_data"
    }
   ],
   "source": [
    "skplt.metrics.plot_confusion_matrix(y_test, predictions, normalize=True)\n",
    "plt.show()"
   ]
  },
  {
   "cell_type": "code",
   "execution_count": null,
   "id": "c052a8dc",
   "metadata": {},
   "outputs": [],
   "source": [
    "import pandas as pd\n",
    "import numpy as np\n",
    "from sklearn.model_selection import train_test_split\n",
    "from sklearn.linear_model import LogisticRegression\n",
    "from sklearn import metrics\n",
    "import matplotlib.pyplot as plt"
   ]
  },
  {
   "cell_type": "code",
   "execution_count": 198,
   "id": "b00b8f38",
   "metadata": {
    "scrolled": true
   },
   "outputs": [
    {
     "name": "stderr",
     "output_type": "stream",
     "text": [
      "/Users/williecheng/opt/anaconda3/lib/python3.9/site-packages/sklearn/linear_model/_logistic.py:814: ConvergenceWarning: lbfgs failed to converge (status=1):\n",
      "STOP: TOTAL NO. of ITERATIONS REACHED LIMIT.\n",
      "\n",
      "Increase the number of iterations (max_iter) or scale the data as shown in:\n",
      "    https://scikit-learn.org/stable/modules/preprocessing.html\n",
      "Please also refer to the documentation for alternative solver options:\n",
      "    https://scikit-learn.org/stable/modules/linear_model.html#logistic-regression\n"
     ]
    },
    {
     "data": {
      "image/png": "[encoded data removed]",
      "text/plain": [
       "<Figure size 432x288 with 1 Axes>"
      ]
     },
     "metadata": {
      "needs_background": "light"
     },
     "output_type": "display_data"
    }
   ],
   "source": [
    "#instantiate the model\n",
    "log_regression = LogisticRegression()\n",
    "\n",
    "#fit the model using the training data\n",
    "log_regression.fit(X_train,y_train)\n",
    "\n",
    "#define metrics\n",
    "y_pred_proba = log_regression.predict_proba(X_test)[::,1]\n",
    "fpr, tpr, _ = metrics.roc_curve(y_test,  y_pred_proba)\n",
    "auc = metrics.roc_auc_score(y_test, y_pred_proba)\n",
    "\n",
    "# generate a no skill prediction (majority class)\n",
    "ns_probs = [0 for _ in range(len(y_test))]\n",
    "# calculate roc curves\n",
    "ns_fpr, ns_tpr, _ = roc_curve(y_test, ns_probs)\n",
    "\n",
    "\n",
    "#print ('accuracy_score =%.3f' %(acc))\n",
    "\n",
    "#create ROC curve\n",
    "plt.plot(ns_fpr, ns_tpr, linestyle='--', label='No Skill')\n",
    "plt.plot(fpr,tpr,label=\"AUC=\"+str(auc))\n",
    "plt.ylabel('True Positive Rate')\n",
    "plt.xlabel('False Positive Rate')\n",
    "plt.legend(loc=4)\n",
    "plt.show()"
   ]
  }
 ],
 "metadata": {
  "kernelspec": {
   "display_name": "Python 3 (ipykernel)",
   "language": "python",
   "name": "python3"
  },
  "language_info": {
   "codemirror_mode": {
    "name": "ipython",
    "version": 3
   },
   "file_extension": ".py",
   "mimetype": "text/x-python",
   "name": "python",
   "nbconvert_exporter": "python",
   "pygments_lexer": "ipython3",
   "version": "3.9.12"
  }
 },
 "nbformat": 4,
 "nbformat_minor": 5
}
